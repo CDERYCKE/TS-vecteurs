{
 "cells": [
  {
   "cell_type": "markdown",
   "metadata": {},
   "source": [
    "# CH4 et CH5 - Mécanique"
   ]
  },
  {
   "cell_type": "markdown",
   "metadata": {},
   "source": [
    "# Vecteurs vitesse et accélération - Tracé de l'évolution des énergies avec Python"
   ]
  },
  {
   "cell_type": "markdown",
   "metadata": {},
   "source": [
    "Pour cette partie, on utilise le pointage effectué sur le lancer complet du ballon de basket pour étudier l'évolution des énergies au cours du temps."
   ]
  },
  {
   "cell_type": "markdown",
   "metadata": {},
   "source": [
    "## 1 - Importation des données"
   ]
  },
  {
   "cell_type": "markdown",
   "metadata": {},
   "source": [
    "<div class=\"alert alert-info\" role=\"alert\">\n",
    "  <strong>Travail à faire sur le notebook : </strong> <br>\n",
    "    Pour les cellules de code suivantes, appuyez sur <strong>\"shift + entrée\"</strong> pour lancer le code Python contenu dans chaque cellule\n",
    "</div>"
   ]
  },
  {
   "cell_type": "code",
   "execution_count": null,
   "metadata": {
    "tags": []
   },
   "outputs": [],
   "source": [
    "import matplotlib.pyplot as plt # pour le tracé des graphiques"
   ]
  },
  {
   "cell_type": "code",
   "execution_count": null,
   "metadata": {
    "tags": []
   },
   "outputs": [],
   "source": [
    "import csv \n",
    "import requests"
   ]
  },
  {
   "cell_type": "markdown",
   "metadata": {},
   "source": [
    "On commence par importer les données stockées dans un fichier appelé basket.txt"
   ]
  },
  {
   "cell_type": "code",
   "execution_count": null,
   "metadata": {
    "tags": []
   },
   "outputs": [],
   "source": [
    "CSV_URL=\"https://raw.githubusercontent.com/CDERYCKE/TS-vecteurs/main/basket-modele-1sur10.txt\"\n",
    "download = requests.get(CSV_URL)\n",
    "decoded_content = download.content.decode('utf-8')\n",
    "fichier_pointage = decoded_content.splitlines()"
   ]
  },
  {
   "cell_type": "markdown",
   "metadata": {},
   "source": [
    "On range ensuite les données du fichier.csv dans des listes Python : x, y et t"
   ]
  },
  {
   "cell_type": "code",
   "execution_count": null,
   "metadata": {
    "tags": []
   },
   "outputs": [],
   "source": [
    "# On crée 3 listes pour stocker les données du pointage\n",
    "\n",
    "liste_t=[]\n",
    "liste_x=[]\n",
    "liste_y=[]\n",
    "\n",
    "lire=csv.reader(fichier_pointage, delimiter=';')                            #chargement des lignes du fichier csv\n",
    "for ligne in lire:                            #Pour chaque ligne... \n",
    "    liste_t.append( ligne[0] )\n",
    "    liste_x.append( ligne[1] )\n",
    "    liste_y.append( ligne[3] )\n",
    "    \n",
    "             "
   ]
  },
  {
   "cell_type": "markdown",
   "metadata": {},
   "source": [
    "On convertit ensuite les données au format nombre avec float"
   ]
  },
  {
   "cell_type": "code",
   "execution_count": null,
   "metadata": {
    "tags": []
   },
   "outputs": [],
   "source": [
    "t = [ float(liste_t[i]) for i in range(1,len(liste_t)) ]\n",
    "x = [ float(liste_x[i]) for i in range(1,len(liste_x)) ]\n",
    "y = [ float(liste_y[i]) for i in range(1,len(liste_y)) ]\n"
   ]
  },
  {
   "cell_type": "code",
   "execution_count": null,
   "metadata": {
    "tags": []
   },
   "outputs": [],
   "source": [
    "len(t) # pour vérifier le nombre de points de pointage"
   ]
  },
  {
   "cell_type": "markdown",
   "metadata": {},
   "source": [
    "On a ainsi récupéré 3 listes contenant les données."
   ]
  },
  {
   "cell_type": "markdown",
   "metadata": {},
   "source": [
    "On trace les graphiques $x(t)$ et $y(t)$ pour vérifier"
   ]
  },
  {
   "cell_type": "code",
   "execution_count": null,
   "metadata": {
    "tags": []
   },
   "outputs": [],
   "source": [
    "plt.close()\n",
    "\n",
    "plt.plot(t, x, label='$x(t)$', color='blue', linestyle='dashed', linewidth=1,\n",
    "marker='+', markerfacecolor='red')\n",
    "plt.plot(t, y, label='$y(t)$', color='green', linestyle='dashed', linewidth=1,\n",
    "marker='+', markerfacecolor='red')\n",
    "plt.title('Equations horaires')  # Ajout d'un titre\n",
    "plt.xlabel('temps')         # Nom de la grandeur en abscisse\n",
    "plt.ylabel('x et y')         # Nom de la grandeur en ordonnée\n",
    "plt.grid()              # Ajout d'une grille\n",
    "plt.legend()\n",
    "\n",
    "plt.show()  "
   ]
  },
  {
   "cell_type": "markdown",
   "metadata": {},
   "source": [
    "On peut aussi tracer la trajectoire y en fonction de x : $y(x)$   \n",
    "\n",
    "Compléter la ligne suivante pour obtenir le graphique désiré :"
   ]
  },
  {
   "cell_type": "markdown",
   "metadata": {},
   "source": [
    "<div class=\"alert alert-warning\" role=\"alert\">\n",
    "    <strong> Travail à faire : </strong> <br>\n",
    "    --> Modifier les lignes de code permettant de répondre au problème posé\n",
    "</div>"
   ]
  },
  {
   "cell_type": "code",
   "execution_count": null,
   "metadata": {
    "tags": []
   },
   "outputs": [],
   "source": [
    "plt.close() # pour fermer le graphique précedent\n",
    "\n",
    "plt.plot(????,????, color='blue',marker='+')\n",
    "plt.title('Trajectoire')  # Ajout d'un titre\n",
    "plt.xlabel('x')         # Nom de la grandeur en abscisse\n",
    "plt.ylabel('y')         # Nom de la grandeur en ordonnée\n",
    "plt.grid()              # Ajout d'une grille\n",
    "\n",
    "plt.show()  "
   ]
  },
  {
   "cell_type": "markdown",
   "metadata": {},
   "source": [
    "## 2 - Calculs de dérivées pour obtenir vitesse et accélération"
   ]
  },
  {
   "cell_type": "markdown",
   "metadata": {},
   "source": [
    "On va alors calculer les valeurs des vitesses $v_x $ et $ v_y $ :  \n",
    "Avec la méthode symétrique il s'agit de calculer la variation de position divisé par la durée."
   ]
  },
  {
   "cell_type": "markdown",
   "metadata": {},
   "source": [
    "On va utiliser la méthode symétrique, le code suivant est donc à modifier :"
   ]
  },
  {
   "cell_type": "code",
   "execution_count": null,
   "metadata": {
    "tags": []
   },
   "outputs": [],
   "source": [
    "nb_points = len(t) # permet de connaitre le nombre de points de pointage"
   ]
  },
  {
   "cell_type": "markdown",
   "metadata": {},
   "source": [
    "<div class=\"alert alert-warning\" role=\"alert\">\n",
    "    <strong> Travail à faire : </strong> <br>\n",
    "    --> Modifier les lignes de code suivantes pour obtenir le calcul de la vitesse par la méthode symétrique :  "
   ]
  },
  {
   "cell_type": "code",
   "execution_count": null,
   "metadata": {
    "tags": []
   },
   "outputs": [],
   "source": [
    "Vx = []\n",
    "Vy = []\n",
    "\n",
    "for i in range(1,nb_points-1): # enlève le premier et le dernier pointage de la liste\n",
    "    v_x = (x[i+1] - x[i]) / (t[i+1] - t[i]) # à modifier\n",
    "    Vx.append(v_x)\n",
    "    v_y = ????????????????????  # à compléter\n",
    "    Vy.append(v_y)"
   ]
  },
  {
   "cell_type": "markdown",
   "metadata": {},
   "source": [
    "On peut tracer l'évolution des composantes du vecteurs vitesse en fonction du temps :"
   ]
  },
  {
   "cell_type": "code",
   "execution_count": null,
   "metadata": {
    "tags": []
   },
   "outputs": [],
   "source": [
    "plt.close()\n",
    "\n",
    "plt.plot(t[1:-1],Vy, color='blue',label='$V_y(t)$', marker='+')\n",
    "plt.plot(t[1:-1],Vx, color='red',label='$V_x(t)$',marker='+')\n",
    "\n",
    "\n",
    "plt.title('Evolution des composantes du vecteur vitesse')  # Ajout d'un titre\n",
    "plt.xlabel('t')         # Nom de la grandeur en abscisse\n",
    "plt.ylabel('V')         # Nom de la grandeur en ordonnée\n",
    "plt.grid()              # Ajout d'une grille\n",
    "plt.legend()\n",
    "\n",
    "plt.show()  "
   ]
  },
  {
   "cell_type": "markdown",
   "metadata": {},
   "source": [
    "<div class=\"alert alert-warning\" role=\"alert\">\n",
    "    <strong> Travail à faire : </strong> <br>\n",
    "    --> Répondre aux questions de la feuille  "
   ]
  },
  {
   "cell_type": "markdown",
   "metadata": {},
   "source": [
    "## 3 - Tracé du vecteur vitesse :"
   ]
  },
  {
   "cell_type": "markdown",
   "metadata": {},
   "source": [
    "On utilise une commande intégrée de Python : quiver  \n"
   ]
  },
  {
   "cell_type": "markdown",
   "metadata": {},
   "source": [
    "<div class=\"alert alert-info\" role=\"alert\">\n",
    "  <strong>Travail à faire sur le notebook : </strong> <br>\n",
    "    Pour les cellules de code suivantes, appuyez sur <strong>shift + entrée</strong> pour lancer le code Python contenu dans chaque cellule\n",
    "</div>"
   ]
  },
  {
   "cell_type": "code",
   "execution_count": null,
   "metadata": {
    "tags": []
   },
   "outputs": [],
   "source": [
    "plt.close()\n",
    "\n",
    "plt.xlim(0,1.5*max(x))\n",
    "plt.ylim(0,2*max(y))\n",
    "plt.plot(x,y,'r+') # on trace : la trajectoire ... \n",
    "\n",
    "plt.quiver(x[1:-1],y[1:-1],Vx,Vy, angles='xy', color='b',scale_units='xy', scale=1) # modifier scale pour l'échelle des vecteurs\n",
    "\n",
    "plt.xlabel(\" x (en m)\")\n",
    "plt.ylabel(\" y (en m)\")\n",
    "\n",
    "# afficher le graphe\n",
    "plt.show()"
   ]
  },
  {
   "cell_type": "markdown",
   "metadata": {},
   "source": [
    "<div class=\"alert alert-warning\" role=\"alert\">\n",
    "    <strong> Travail à faire : </strong> <br>\n",
    "    --> Vérifier que les vecteurs vitesse sont tangents à la trajectoire  <br>\n",
    "    --> Modifier si nécessaire l'échelle de tracé : scale"
   ]
  },
  {
   "cell_type": "markdown",
   "metadata": {},
   "source": [
    "## 4 - Etude du vecteur accélération"
   ]
  },
  {
   "cell_type": "markdown",
   "metadata": {},
   "source": [
    "On effectue un travail simmilaire pour l'accélération qui est la variation du vecteur vitesse.  \n",
    "On travaille ici aussi avec la méthode symétrique.\n",
    "\n",
    "On ne peut pas calculer l'accélération du premier point du pointage, ni celle du deuxième car il faut connaitre la vitesse avant.  \n",
    "Même chose pour la fin de la liste."
   ]
  },
  {
   "cell_type": "code",
   "execution_count": null,
   "metadata": {},
   "outputs": [],
   "source": [
    "ax = []\n",
    "ay = []\n",
    "\n",
    "for i in range(1,len(Vx)-1): # enlève le premier et le dernier pointage de la liste des vitesses\n",
    "    a_x = (Vx[???]-Vx[????]) / (t[???] - t[???])\n",
    "    ax.append(a_x)\n",
    "    a_y = (Vy[???]-Vy[???]) / (t[???] - t[???])\n",
    "    ay.append(a_y)"
   ]
  },
  {
   "cell_type": "code",
   "execution_count": null,
   "metadata": {},
   "outputs": [],
   "source": [
    "\n",
    "plt.plot(x,y,'r+') # la trajectoire, on dessine tous les points \n",
    "\n",
    "plt.quiver(x[2:-2],y[2:-2],ax,ay, angles='xy', color='r',scale_units='xy', scale=10) # on dessine les vecteurs uniquement entre le 2e pointage et l'avant dernier de la liste\n",
    "\n",
    "# paramètres du graphe (taille, légendes)\n",
    "plt.xlabel(\" x (en m)\")\n",
    "plt.ylabel(\" y (en m)\")\n",
    "\n",
    "# afficher le graphe\n",
    "plt.show()"
   ]
  },
  {
   "cell_type": "markdown",
   "metadata": {},
   "source": [
    "## 3 - Calcul des énergies"
   ]
  },
  {
   "cell_type": "markdown",
   "metadata": {},
   "source": [
    "On va maintenant créer des listes contenant les valeurs des énergies en fonction du temps."
   ]
  },
  {
   "cell_type": "markdown",
   "metadata": {},
   "source": [
    "<div class=\"alert alert-warning\" role=\"alert\">\n",
    "    <strong> Travail à faire sur la fiche réponse : </strong> <br>\n",
    "    --> Répondre aux questions posées <br>\n",
    "    --> Compléter le code Python ci-dessous <br>\n",
    "</div>"
   ]
  },
  {
   "cell_type": "markdown",
   "metadata": {},
   "source": [
    "On crée les variables contenant les données du problème :"
   ]
  },
  {
   "cell_type": "code",
   "execution_count": null,
   "metadata": {},
   "outputs": [],
   "source": [
    "# On crée les variables contenant les données du problème\n",
    "m= 0.597# masse du ballon en kg\n",
    "g = 9.8 # intensité de la pesanteur sur Terre"
   ]
  },
  {
   "cell_type": "code",
   "execution_count": null,
   "metadata": {},
   "outputs": [],
   "source": [
    "# Création des listes qui contiendront les valeurs des énergies\n",
    "h=[] # on crée des listes vides\n",
    "Ecin=[] \n",
    "Epp=[]\n",
    "Emec=[]"
   ]
  },
  {
   "cell_type": "code",
   "execution_count": null,
   "metadata": {},
   "outputs": [],
   "source": [
    "# calcul des énergies potentielles de pesanteur :\n",
    "\n",
    "for i in range(1,nb_points-1): # on n'utilise pas la totalité de la liste des positions\n",
    "    hauteur=y[i]-y[0] # ainsi la référence des énergies potentiellles de pesanteur sera l'origine du repère\n",
    "    h.append(hauteur)\n",
    "    \n",
    "    Epp_i= ??????????????\n",
    "    Epp.append(Epp_i)"
   ]
  },
  {
   "cell_type": "markdown",
   "metadata": {},
   "source": [
    "On doit ensuite calculer les énergies cinétiques à partir des vitesses.  \n",
    "On connait les listes des vitesses : `Vx` et `Vy` \n",
    "\n",
    "On va d'abord calculer la norme de la vitesse puis on pourra calculer la valeur de l'énergie cinétique pour chauqe point.\n"
   ]
  },
  {
   "cell_type": "code",
   "execution_count": null,
   "metadata": {},
   "outputs": [],
   "source": [
    "for i in range(0,nb_points-2): # il y a deux vitesses non calculables : la première et la dernière donc nb_points - 2 pour le nombre d'éléments de la liste\n",
    "    \n",
    "    vitesse = ??????????????\n",
    "    \n",
    "    Ec_i= ??????????????\n",
    "    Ecin.append(Ec_i)\n",
    "    \n",
    "   "
   ]
  },
  {
   "cell_type": "markdown",
   "metadata": {},
   "source": [
    "Enfin on combine les listes pour obtenir l'énergie mécanique.  "
   ]
  },
  {
   "cell_type": "code",
   "execution_count": null,
   "metadata": {},
   "outputs": [],
   "source": [
    "for i in range(0,nb_points-2): # il y a deux énergies cinétiques  non calculées : la première et la dernière donc nb_points - 2 pour le nombre d'éléments de la liste    \n",
    "    Emec_i= Ecin[i]+Epp[i]\n",
    "    Emec.append(Emec_i)"
   ]
  },
  {
   "cell_type": "markdown",
   "metadata": {},
   "source": [
    "*Remarque !*\n",
    "\n",
    "Les indices des énergies et ceux des positions sont décalés !  \n",
    "la liste des énergies commence au point $M_1$ tandis que celle des positions commence au point $M_0$ !!"
   ]
  },
  {
   "cell_type": "markdown",
   "metadata": {},
   "source": [
    "Il nous reste à tracer l'évolution des énergies au cours du temps."
   ]
  },
  {
   "cell_type": "code",
   "execution_count": null,
   "metadata": {},
   "outputs": [],
   "source": [
    "\n",
    "# Tracé du graphique\n",
    "plt.xlim(-1,14)\n",
    "plt.plot(x[1:-1],Ecin, '+r',label=\"Ecin\") # x[1:-1] permet d'enlever la première et la dernière valeur de x pour lesquelles on n'a pas pu calculer Ecin\n",
    "plt.plot(x[1:-1],Epp, '*b',label=\"Epp\")\n",
    "plt.plot(x[1:-1],Emec, '.g',label=\"Emec\")\n",
    "\n",
    "\n",
    "plt.title(\"Evolution des énergies lors du lancer\")\n",
    "\n",
    "plt.xlabel(\" position selon x (en m)\")\n",
    "plt.ylabel(\" Energies (en J)\")\n",
    "\n",
    "# afficher le graphe\n",
    "plt.show()\n"
   ]
  },
  {
   "cell_type": "markdown",
   "metadata": {},
   "source": [
    "On peut alors répondre aux questions du TP."
   ]
  },
  {
   "cell_type": "markdown",
   "metadata": {},
   "source": [
    "<div class=\"alert alert-success\" role=\"alert\">\n",
    " <strong> Le travail est terminé !</strong> <br>\n",
    "</div>"
   ]
  },
  {
   "cell_type": "markdown",
   "metadata": {},
   "source": [
    "**Compléments :**  \n",
    "D’autres pointages sont disponibles, modifier le nom du fichier dans le code Python pour qu’il utilise ces pointages (chute = pointage1.txt et mouvement circulaire = pointage2.txt)."
   ]
  }
 ],
 "metadata": {
  "interpreter": {
   "hash": "9d311be38aaab6724ddcc1832584b56442275a7a0d238cffc2dc15b24c65af3c"
  },
  "kernelspec": {
   "display_name": "Python 3 (ipykernel)",
   "language": "python",
   "name": "python3"
  },
  "language_info": {
   "codemirror_mode": {
    "name": "ipython",
    "version": 3
   },
   "file_extension": ".py",
   "mimetype": "text/x-python",
   "name": "python",
   "nbconvert_exporter": "python",
   "pygments_lexer": "ipython3",
   "version": "3.11.4"
  }
 },
 "nbformat": 4,
 "nbformat_minor": 4
}
