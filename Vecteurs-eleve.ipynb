{
 "cells": [
  {
   "cell_type": "markdown",
   "metadata": {},
   "source": [
    "# CH4 - Pointage et obtention des vecteurs avec Python "
   ]
  },
  {
   "cell_type": "markdown",
   "metadata": {},
   "source": [
    "<div class=\"alert alert-info\" role=\"alert\">\n",
    "  <strong>Travail à faire sur le notebook : </strong> <br>\n",
    "    Pour les cellules suivantes, appuyez sur shift entrée pour lancer le code Python contenu chaque cellule\n",
    "</div>"
   ]
  },
  {
   "cell_type": "code",
   "execution_count": null,
   "metadata": {},
   "outputs": [],
   "source": [
    "import matplotlib.pyplot as plt # pour le tracé des graphiques"
   ]
  },
  {
   "cell_type": "code",
   "execution_count": null,
   "metadata": {},
   "outputs": [],
   "source": [
    "x=[]\n",
    "y=[]\n",
    "t=[]\n",
    "with open('pointage3.txt') as file:\n",
    "    lines = file.readlines()[1:] # attention readlines ! pour lire toutes les lignes et 1: pour enlever la première ligne\n",
    "    for line in lines:\n",
    "        elements = line.split(\";\")\n",
    "        t.append(float(elements[0]))\n",
    "        x.append(float(elements[1])) \n",
    "        y.append(float(elements[3]))# pas de ligne 2 car le temps apparait 2 fois\n",
    "        line = file.readline()"
   ]
  },
  {
   "cell_type": "markdown",
   "metadata": {},
   "source": [
    "On a ainsi récupéré 3 listes contenant les données."
   ]
  },
  {
   "cell_type": "markdown",
   "metadata": {},
   "source": [
    "On trace les graphiques x(t) et y(t) pour vérifier"
   ]
  },
  {
   "cell_type": "code",
   "execution_count": null,
   "metadata": {},
   "outputs": [],
   "source": [
    "plt.plot(t, x, color='blue', linestyle='dashed', linewidth=1,\n",
    "marker='+', markerfacecolor='red')\n",
    "plt.plot(t, y, color='green', linestyle='dashed', linewidth=1,\n",
    "marker='+', markerfacecolor='red')\n",
    "plt.title('Equations horaires')  # Ajout d'un titre\n",
    "plt.xlabel('temps')         # Nom de la grandeur en abscisse\n",
    "plt.ylabel('x et y')         # Nom de la grandeur en ordonnée\n",
    "plt.grid()              # Ajout d'une grille\n",
    "plt.show()  "
   ]
  },
  {
   "cell_type": "markdown",
   "metadata": {},
   "source": [
    "On peut aussi tracer la trajectoire y en fonction de x.  \n",
    "Compléter la ligne suivante pour obtenir le graphique désiré :"
   ]
  },
  {
   "cell_type": "markdown",
   "metadata": {},
   "source": [
    "<div class=\"alert alert-warning\" role=\"alert\">\n",
    "    <strong> Travail à faire : </strong> <br>\n",
    "    --> Modifier les lignes de code permettant de répondre au problème posé\n",
    "</div>"
   ]
  },
  {
   "cell_type": "code",
   "execution_count": null,
   "metadata": {},
   "outputs": [],
   "source": [
    "plt.plot(????,????, color='blue',marker='+')\n",
    "plt.title('Trajectoire')  # Ajout d'un titre\n",
    "plt.xlabel('x')         # Nom de la grandeur en abscisse\n",
    "plt.ylabel('y')         # Nom de la grandeur en ordonnée\n",
    "plt.grid()              # Ajout d'une grille\n",
    "plt.show()  "
   ]
  },
  {
   "cell_type": "markdown",
   "metadata": {},
   "source": [
    "## 2 - Calcul des coordonnées du vecteur vitesse"
   ]
  },
  {
   "cell_type": "markdown",
   "metadata": {},
   "source": [
    "On va utiliser la méthode symétrique, le code suivant est donc à modifier :"
   ]
  },
  {
   "cell_type": "code",
   "execution_count": null,
   "metadata": {},
   "outputs": [],
   "source": [
    "nb_points = len(t) # permet de connaitre le nombre de points de pointage"
   ]
  },
  {
   "cell_type": "markdown",
   "metadata": {},
   "source": [
    "<div class=\"alert alert-warning\" role=\"alert\">\n",
    "    <strong> Travail à faire : </strong> <br>\n",
    "    --> Insérer les lignes de code suivantes pour obtenir le calcul de la vitesse par la méthode symétrique :  "
   ]
  },
  {
   "cell_type": "code",
   "execution_count": null,
   "metadata": {},
   "outputs": [],
   "source": [
    "Vx = []\n",
    "Vy = []\n",
    "\n",
    "for i in range(1,nb_points-1): # enlève le premier et le dernier pointage de la liste\n",
    "    v_x = (x[i+1]-x[i]) / (t[i+1] - t[i])\n",
    "    Vx.append(v_x)\n",
    "    v_y = (y[i+1]-y[i]) / (t[i+1] - t[i])\n",
    "    Vy.append(v_y)"
   ]
  },
  {
   "cell_type": "markdown",
   "metadata": {},
   "source": [
    "On peut tracer l'évolution de la vitesse en fonction du temps :"
   ]
  },
  {
   "cell_type": "code",
   "execution_count": null,
   "metadata": {},
   "outputs": [],
   "source": [
    "plt.plot(t[1:-1],Vy, color='blue',marker='+')\n",
    "plt.title('Evolution de la vitesse verticale')  # Ajout d'un titre\n",
    "plt.xlabel('t')         # Nom de la grandeur en abscisse\n",
    "plt.ylabel('Vy')         # Nom de la grandeur en ordonnée\n",
    "plt.grid()              # Ajout d'une grille\n",
    "plt.show()  "
   ]
  },
  {
   "cell_type": "markdown",
   "metadata": {},
   "source": [
    "## 3 - Tracé du vecteur vitesse :"
   ]
  },
  {
   "cell_type": "markdown",
   "metadata": {},
   "source": [
    "On utilise une commande intégrée de Python : quiver  \n"
   ]
  },
  {
   "cell_type": "markdown",
   "metadata": {},
   "source": [
    "<div class=\"alert alert-info\" role=\"alert\">\n",
    "  <strong>Travail à faire sur le notebook : </strong> <br>\n",
    "    Pour les cellules suivantes, appuyez sur shift entrée pour lancer le code Python\n",
    "</div>"
   ]
  },
  {
   "cell_type": "code",
   "execution_count": null,
   "metadata": {},
   "outputs": [],
   "source": [
    "plt.xlim(0.8*min(x),1.5*max(x))\n",
    "plt.ylim(2*min(y),2*max(y))\n",
    "plt.plot(x,y,'r+') # on trace : la trajectoire ... \n",
    "\n",
    "plt.quiver(x[1:-1],y[1:-1],Vx,Vy, angles='xy', color='b',scale_units='xy', scale=2) # modifier scale pour l'échelle des vecteurs\n",
    "\n",
    "plt.xlabel(\" x (en m)\")\n",
    "plt.ylabel(\" y (en m)\")\n",
    "\n",
    "# afficher le graphe\n",
    "plt.show()"
   ]
  },
  {
   "cell_type": "markdown",
   "metadata": {},
   "source": [
    "<div class=\"alert alert-warning\" role=\"alert\">\n",
    "    <strong> Travail à faire : </strong> <br>\n",
    "    --> Vétifier que les vecteurs vitesse sont tangent à la trajectoire  <br>\n",
    "    --> Modifier si nécessaire l'échelle de tracé : scale"
   ]
  },
  {
   "cell_type": "markdown",
   "metadata": {},
   "source": [
    "## 4 - Etude du vecteur accélération"
   ]
  },
  {
   "cell_type": "markdown",
   "metadata": {},
   "source": [
    "On effectue un travail simmilaire pour l'accélération qui est la variation du vecteur vitesse.  \n",
    "On travaille ici aussi avec la méthode symétrique.  "
   ]
  },
  {
   "cell_type": "code",
   "execution_count": null,
   "metadata": {},
   "outputs": [],
   "source": [
    "ax = []\n",
    "ay = []\n",
    "\n",
    "for i in range(1,len(Vx)-1):\n",
    "    a_x = (Vx[???]-Vx[????]) / (t[???] - t[???])\n",
    "    ax.append(a_x)\n",
    "    a_y = (Vy[???]-Vy[???]) / (t[???] - t[???])\n",
    "    ay.append(a_y)\n",
    "\n",
    "plt.plot(x,y,'r+') #la trajectoire ... \n",
    "\n",
    "plt.quiver(x[2:-2],y[2:-2],ax,ay, angles='xy', color='b',scale_units='xy', scale=10)\n",
    "\n",
    "# paramètres du graphe (taille, légendes)\n",
    "plt.xlabel(\" x (en m)\")\n",
    "plt.ylabel(\" y (en m)\")\n",
    "\n",
    "# afficher le graphe\n",
    "plt.show()"
   ]
  },
  {
   "cell_type": "markdown",
   "metadata": {},
   "source": [
    "**Compléments :**  \n",
    "D’autres pointages sont disponibles, modifier le nom du fichier dans le code Python pour qu’il utilise ces pointages (chute = pointage1.txt et mouvement circulaire = pointage2.txt)."
   ]
  },
  {
   "cell_type": "markdown",
   "metadata": {},
   "source": [
    "<div class=\"alert alert-success\" role=\"alert\">\n",
    " <strong> Le travail est terminé !</strong> <br>\n",
    "</div>"
   ]
  },
  {
   "cell_type": "code",
   "execution_count": null,
   "metadata": {},
   "outputs": [],
   "source": []
  }
 ],
 "metadata": {
  "kernelspec": {
   "display_name": "Python 3",
   "language": "python",
   "name": "python3"
  },
  "language_info": {
   "codemirror_mode": {
    "name": "ipython",
    "version": 3
   },
   "file_extension": ".py",
   "mimetype": "text/x-python",
   "name": "python",
   "nbconvert_exporter": "python",
   "pygments_lexer": "ipython3",
   "version": "3.7.9"
  }
 },
 "nbformat": 4,
 "nbformat_minor": 4
}
